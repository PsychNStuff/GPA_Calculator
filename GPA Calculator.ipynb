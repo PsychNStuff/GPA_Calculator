{
 "cells": [
  {
   "cell_type": "code",
   "execution_count": 2,
   "metadata": {},
   "outputs": [
    {
     "name": "stdout",
     "output_type": "stream",
     "text": [
      "3.635454545454545\n",
      "3.7677272727272726\n"
     ]
    }
   ],
   "source": [
    "A = 4.00 #A\n",
    "B = 3.00 #B\n",
    "B2 = 3.33 #B+\n",
    "A2 = 4.33 #A+\n",
    "A3 = 3.67 #A-\n",
    "\n",
    "#Use credit hours, not classes\n",
    "A_Grades = A*9\n",
    "B_Grades = B*7\n",
    "B2_Grades = B2*3\n",
    "A2_Grades = A2*3\n",
    "A3_Grades = A3*0\n",
    "\n",
    "Credits = A_Grades+B_Grades+B2_Grades+A2_Grades+A3_Grades\n",
    "\n",
    "#Use Cum to calculate GPA for specific major, use Projection with Cum to calculate projected GPA\n",
    "Cum = Credits/22 #divide by number of credit hours overall\n",
    "\n",
    "Projection = (Cum+3.90)/2 #Cum + current GPA divided by 2\n",
    "\n",
    "print(Cum)\n",
    "print(Projection)"
   ]
  }
 ],
 "metadata": {
  "kernelspec": {
   "display_name": "Python 3",
   "language": "python",
   "name": "python3"
  },
  "language_info": {
   "codemirror_mode": {
    "name": "ipython",
    "version": 3
   },
   "file_extension": ".py",
   "mimetype": "text/x-python",
   "name": "python",
   "nbconvert_exporter": "python",
   "pygments_lexer": "ipython3",
   "version": "3.8.5"
  }
 },
 "nbformat": 4,
 "nbformat_minor": 4
}
